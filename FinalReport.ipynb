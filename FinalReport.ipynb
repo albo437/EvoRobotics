{
 "cells": [
  {
   "cell_type": "markdown",
   "metadata": {},
   "source": [
    "# Evolutionary Robotics\n",
    "\n",
    "Evolutionary robotics (ER) is an interdisciplinary field that applies principles of artificial evolution to the automated design and optimization of robotic systems. Inspired by biological evolution, ER leverages algorithms such as Genetic Algorithms (GAs) and Evolutionary Strategies (ES) to iteratively improve robot morphology, control policies, or both. By simulating natural selection, populations of robots undergo variation, selection, and reproduction, leading to emergent designs that can adapt to complex environments without human intervention. This approach has demonstrated the potential to produce novel, efficient, and sometimes unexpected solutions to robotic tasks, making it a powerful tool for autonomous system development and embodied artificial intelligence.\n",
    "\n",
    "## Experimental Setup\n",
    "\n",
    "This notebook demonstrates the capabilities of ER by training a robot to reach a predefined goal: finding a wall and getting as close as possible to it. The process will be carried out through simulations in PyBullet.\n",
    "\n",
    "### Robot Architecture\n",
    "\n",
    "The robot in this experiment is controlled by a feedforward neural network with the following structure:\n",
    "- **9 sensor neurons**:\n",
    "  - 8 touch sensors that activate when the corresponding robot part makes contact with any object in the simulation.\n",
    "  - 1 ray detector sensor that emits an array of rays in a square grid pattern expanding up to 20 units. The activation of this neuron is proportional to the number of rays that hit the target wall. The ray source is located at the top of the robot.\n",
    "- **6 hidden neurons**.\n",
    "- **8 motor neurons**, which control the movement of the robot's joints.\n",
    "\n",
    "At each simulation step, the activation of the sensor neurons determines the motor neuron outputs, generating a continuous behavior for the robot.\n",
    "\n",
    "## Genetic Algorithm for Training\n",
    "\n",
    "The training process is conducted using a Genetic Algorithm (GA). In general, a GA evolves a population of candidate solutions through selection, crossover, and mutation to optimize a given objective function.\n",
    "\n",
    "### Implementation Details\n",
    "\n",
    "- The GA uses **real-valued representation**, where each solution is a 102-dimensional vector encoding the neural network weights.\n",
    "- The initial population consists of **$\\mu$** randomly generated individuals.\n",
    "- Each solution undergoes **10 simulations**, each with a different random placement of the target wall.\n",
    "- The **fitness function** evaluates each solution based on the average final distance to the wall, with lower distances indicating better solutions.\n",
    "- **Offspring Generation**:\n",
    "  - **$\\lambda$** offspring are generated using **Simulated Binary Crossover (SBX)** and **Polynomial Mutation**.\n",
    "  - The offspring are evaluated similarly to the parent population.\n",
    "- **Selection**:\n",
    "  - The combined population of parents and offspring (**$\\mu$ + $\\lambda$**) is sorted by fitness.\n",
    "  - The top **$\\mu$** solutions are selected for the next generation.\n",
    "\n",
    "This evolutionary approach allows the robot to progressively develop an optimized control strategy for navigating towards the target wall.\n",
    "\n"
   ]
  },
  {
   "cell_type": "code",
   "execution_count": null,
   "metadata": {},
   "outputs": [],
   "source": [
    "# Run only if using google colab\n",
    "# ! git clone https://github.com/albo437/EvoRobotics.git\n",
    "# % cd EvoRobotics\n",
    "# ! pip install -r requirements.txt"
   ]
  },
  {
   "cell_type": "code",
   "execution_count": null,
   "metadata": {},
   "outputs": [],
   "source": [
    "from geneticAlgorithm import GENETIC_ALGORITHM\n",
    "from solution import SOLUTION"
   ]
  },
  {
   "cell_type": "markdown",
   "metadata": {},
   "source": [
    "# Test algorithm"
   ]
  },
  {
   "cell_type": "markdown",
   "metadata": {},
   "source": [
    "## Train neural network using genetic algortihm\n",
    "\n",
    "The current parameters for the genetic algorithm are:\n",
    "- Parent population of size 20\n",
    "- Offspring generation of size 20\n",
    "- 20 generation\n",
    "\n",
    "This seetings can be modified in constants.py, more of anything may take an unreasonable amout of time to train, 20 at each setting seems to be and appropiate sweet spot between final performance and time to train. Less generations or a smaller population may result in acceptable behavior but variance will be higher with more unintended final behaviors.\n",
    "\n"
   ]
  },
  {
   "cell_type": "code",
   "execution_count": null,
   "metadata": {},
   "outputs": [],
   "source": [
    "ga = GENETIC_ALGORITHM()\n",
    "ga.Evolve();"
   ]
  },
  {
   "cell_type": "markdown",
   "metadata": {},
   "source": [
    "## Example result\n",
    "\n",
    "The following simulation shows the final result optimized by the GA, in general the expected behavior is for the robot to turn in circles to any side until the sensor can see the wall, then it will start walking forward towards the wall. A common behavior if for the robot to tilt to the opposite side it was turning to, this can be interpreted as a counter measure to the momentum generated by the turning, this way the robot will have time to properly connect to the wall."
   ]
  },
  {
   "cell_type": "code",
   "execution_count": null,
   "metadata": {},
   "outputs": [],
   "source": [
    "ga.Show_Best()"
   ]
  },
  {
   "cell_type": "code",
   "execution_count": null,
   "metadata": {},
   "outputs": [],
   "source": [
    "weights_to_hidden, weights_to_motor = ga.Get_Best()\n",
    "\n",
    "print(weights_to_hidden)\n",
    "print(weights_to_motor)"
   ]
  },
  {
   "cell_type": "code",
   "execution_count": null,
   "metadata": {},
   "outputs": [],
   "source": [
    "best_solution = SOLUTION(0, 0)\n",
    "best_solution.weightsToHidden = weights_to_hidden\n",
    "best_solution.weightsToMotor = weights_to_motor\n",
    "best_solution.Start_Simulation(\"GUI\")"
   ]
  }
 ],
 "metadata": {
  "kernelspec": {
   "display_name": "evoRobotics",
   "language": "python",
   "name": "python3"
  },
  "language_info": {
   "codemirror_mode": {
    "name": "ipython",
    "version": 3
   },
   "file_extension": ".py",
   "mimetype": "text/x-python",
   "name": "python",
   "nbconvert_exporter": "python",
   "pygments_lexer": "ipython3",
   "version": "3.13.2"
  }
 },
 "nbformat": 4,
 "nbformat_minor": 2
}
